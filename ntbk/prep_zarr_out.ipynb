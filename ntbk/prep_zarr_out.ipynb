{
 "cells": [
  {
   "cell_type": "code",
   "execution_count": 1,
   "metadata": {},
   "outputs": [],
   "source": [
    "import os\n",
    "os.environ[\"UW_TIMING_ENABLE\"] = \"1\"\n",
    "import petsc4py\n",
    "from petsc4py import PETSc\n",
    "\n",
    "\n",
    "import underworld3 as uw\n",
    "from underworld3.systems import Stokes\n",
    "from underworld3 import function\n",
    "\n",
    "import numpy as np\n",
    "import sympy\n",
    "\n",
    "import zarr"
   ]
  },
  {
   "cell_type": "code",
   "execution_count": 16,
   "metadata": {},
   "outputs": [],
   "source": [
    "x_min = -1.\n",
    "x_max = 1.\n",
    "z_min = 0\n",
    "z_max = 1\n",
    "res = 80\n",
    "\n",
    "is_train = True\n",
    "\n",
    "if is_train:\n",
    "    indir = \"/Users/jcgraciosa/Documents/codes/geo-neural-op/stokes-train-xdmf\"\n",
    "    outdir = \"/Users/jcgraciosa/Documents/codes/geo-neural-op/stokes-train-zarr\"\n",
    "else:\n",
    "    indir = \"/Users/jcgraciosa/Documents/codes/geo-neural-op/stokes-test-xdmf\"\n",
    "    outdir = \"/Users/jcgraciosa/Documents/codes/geo-neural-op/stokes-test-zarr\"\n",
    "\n",
    "fname = \"stokes\"\n",
    "\n",
    "nsteps = 3"
   ]
  },
  {
   "cell_type": "code",
   "execution_count": 3,
   "metadata": {},
   "outputs": [],
   "source": [
    "mesh = uw.meshing.UnstructuredSimplexBox(\n",
    "    minCoords=(x_min, z_min), maxCoords=(x_max, z_max), cellSize=1.0 / res, regular=False\n",
    ")"
   ]
  },
  {
   "cell_type": "code",
   "execution_count": 4,
   "metadata": {},
   "outputs": [],
   "source": [
    "# %% [markdown]\n",
    "# ####  Create Stokes object and the required mesh variables (velocity and pressure)\n",
    "\n",
    "# %%\n",
    "v = uw.discretisation.MeshVariable(\"U\", mesh, mesh.dim, degree=2)\n",
    "p = uw.discretisation.MeshVariable(\"P\", mesh, 1, degree=1)\n",
    "bfz = uw.discretisation.MeshVariable(\"BF\", mesh, 1, degree=2) # for the body force\n",
    "visc = uw.discretisation.MeshVariable(\"VISC\", mesh, 1, degree=2)"
   ]
  },
  {
   "cell_type": "code",
   "execution_count": 5,
   "metadata": {},
   "outputs": [],
   "source": [
    "# positions to interpolate\n",
    "x_grid = np.linspace(x_min, x_max, res)\n",
    "z_grid = np.linspace(z_min, z_max, res)\n",
    "\n",
    "xx, zz = np.meshgrid(x_grid, z_grid)\n",
    "\n",
    "pos_eval = np.zeros((xx.flatten().shape[0], 2))\n",
    "pos_eval[:, 0] = xx.flatten()\n",
    "pos_eval[:, 1] = zz.flatten()\n",
    "\n",
    "# zarrays that will contain the data\n",
    "vxvzp = np.zeros([nsteps, 3, xx.shape[0], xx.shape[1]])\n",
    "bfv = np.zeros([nsteps, 2, xx.shape[0], xx.shape[1]]) # body force and viscosity\n"
   ]
  },
  {
   "cell_type": "code",
   "execution_count": 6,
   "metadata": {},
   "outputs": [
    {
     "name": "stdout",
     "output_type": "stream",
     "text": [
      "step:  0\n",
      "Reading mesh variables...\n",
      "/Users/jcgraciosa/Documents/codes/geo-neural-op/stokes-train-xdmf/stokes.U.0.h5\n",
      "Calculating fields ...\n",
      "Packing ...\n",
      "step:  1\n",
      "Reading mesh variables...\n",
      "/Users/jcgraciosa/Documents/codes/geo-neural-op/stokes-train-xdmf/stokes.U.1.h5\n",
      "Calculating fields ...\n",
      "Packing ...\n",
      "step:  2\n",
      "Reading mesh variables...\n",
      "/Users/jcgraciosa/Documents/codes/geo-neural-op/stokes-train-xdmf/stokes.U.2.h5\n",
      "Calculating fields ...\n",
      "Packing ...\n"
     ]
    }
   ],
   "source": [
    "# loop through all the saved mesh variables\n",
    "step = 0\n",
    "\n",
    "while step < nsteps:\n",
    "\n",
    "    print(\"step: \", step)\n",
    "    infile = indir + \"/\" + fname\n",
    "\n",
    "    print(\"Reading mesh variables...\")\n",
    "    print(infile + \".U.\" + str(step) + \".h5\")\n",
    "    v.read_from_vertex_checkpoint(infile + \".U.\" + str(step) + \".h5\", data_name=\"U\")\n",
    "    p.read_from_vertex_checkpoint(infile + \".P.\" + str(step) + \".h5\", data_name=\"P\")\n",
    "    bfz.read_from_vertex_checkpoint(infile + \".BF.\" + str(step) + \".h5\", data_name=\"BF\")\n",
    "    visc.read_from_vertex_checkpoint(infile + \".VISC.\" + str(step) + \".h5\", data_name=\"VISC\")\n",
    "\n",
    "    # calculate the body force, ux, uz, pressure\n",
    "    print(\"Calculating fields ...\")\n",
    "    bf_z = uw.function.evaluate(bfz.sym[0], pos_eval)\n",
    "    ux_proj = uw.function.evaluate(v.sym[0], pos_eval)\n",
    "    uz_proj = uw.function.evaluate(v.sym[1], pos_eval)\n",
    "    p_proj = uw.function.evaluate(p.sym[0], pos_eval)\n",
    "    visc_proj = uw.function.evaluate(visc.sym[0], pos_eval)\n",
    "\n",
    "    bf_z_rev = bf_z.reshape(xx.shape) # revert to rectangular mesh shape\n",
    "    ux_rev = ux_proj.reshape(xx.shape)\n",
    "    uz_rev = uz_proj.reshape(xx.shape)\n",
    "    p_rev = p_proj.reshape(xx.shape)\n",
    "    visc_rev = visc_proj.reshape(xx.shape)\n",
    "\n",
    "    # pack the predictables one array - L, R, C\n",
    "    print(\"Packing ...\")\n",
    "    vxvzp[step, 0, :, :] = ux_rev\n",
    "    vxvzp[step, 1, :, :] = uz_rev\n",
    "    vxvzp[step, 2, :, :] = p_rev\n",
    "\n",
    "    # pack the inputs one array - L, R, C\n",
    "    bfv[step, 0, :, :] = bf_z_rev\n",
    "    bfv[step, 1, :, :] = visc_rev\n",
    "\n",
    "    # # save the inputs and outputs\n",
    "    # zarr.save(outputPath + \"/vxvzp_{}.zarr\".format(step), vxvzp)\n",
    "    # zarr.save(outputPath + \"/bfv_{}.zarr\".format(step), bfv)\n",
    "\n",
    "    step += 1"
   ]
  },
  {
   "cell_type": "code",
   "execution_count": 11,
   "metadata": {},
   "outputs": [],
   "source": [
    "# import matplotlib.pyplot as plt\n",
    "\n",
    "# int_var = uz_proj\n",
    "# mesh_var = v\n",
    "\n",
    "# fig, ax = plt.subplots(dpi = 150)\n",
    "# #out = ax.scatter(xx.flatten(), zz.flatten(), c = bf_z.flatten(), cmap = \"coolwarm\", s = 5)\n",
    "# out = ax.scatter(pos_eval[:, 0], pos_eval[:, 1], c = int_var, cmap = \"coolwarm\", s = 0.1)\n",
    "# plt.colorbar(out)\n",
    "# ax.set_aspect(\"equal\")\n",
    "\n",
    "# with mesh.access():\n",
    "#     fig, ax = plt.subplots(dpi = 150)\n",
    "#     out = ax.scatter(mesh_var.coords[:, 0], mesh_var.coords[:, 1], c = mesh_var.data[:, 1], cmap = \"coolwarm\", s = 0.05)\n",
    "#     plt.colorbar(out)\n",
    "#     ax.set_aspect(\"equal\")"
   ]
  },
  {
   "cell_type": "code",
   "execution_count": 15,
   "metadata": {},
   "outputs": [
    {
     "name": "stdout",
     "output_type": "stream",
     "text": [
      "False\n",
      "False\n",
      "False\n",
      "False\n",
      "False\n"
     ]
    }
   ],
   "source": [
    "# compare closeness of the data\n",
    "\n",
    "i1 = 0\n",
    "i2 = 2\n",
    "\n",
    "print(np.allclose(vxvzp[i1, 0, :, :], vxvzp[i2, 0, :, :]))\n",
    "print(np.allclose(vxvzp[i1, 1, :, :], vxvzp[i2, 1, :, :]))\n",
    "print(np.allclose(vxvzp[i1, 2, :, :], vxvzp[i2, 2, :, :]))\n",
    "\n",
    "print(np.allclose(bfv[i1, 0, :, :], bfv[i2, 0, :, :]))\n",
    "print(np.allclose(bfv[i1, 1, :, :], bfv[i2, 1, :, :]))"
   ]
  },
  {
   "cell_type": "code",
   "execution_count": 18,
   "metadata": {},
   "outputs": [],
   "source": [
    "# zarr.save(outdir + \"/vxvzp_{}.zarr\".format(step), vxvzp)\n",
    "# zarr.save(outdir + \"/bfv_{}.zarr\".format(step), bfv)\n",
    "\n",
    "zarr.save(outdir + \"/vxvzp.zarr\", vxvzp)\n",
    "zarr.save(outdir + \"/bfv.zarr\", bfv)"
   ]
  },
  {
   "cell_type": "code",
   "execution_count": 19,
   "metadata": {},
   "outputs": [],
   "source": [
    "# try to read\n",
    "rd_vxvzp = zarr.load(outdir + \"/vxvzp.zarr\")\n",
    "rd_bf_z_rev = zarr.load(outdir + \"/bfz.zarr\")"
   ]
  },
  {
   "cell_type": "code",
   "execution_count": 21,
   "metadata": {},
   "outputs": [
    {
     "data": {
      "text/plain": [
       "(3, 3, 80, 80)"
      ]
     },
     "execution_count": 21,
     "metadata": {},
     "output_type": "execute_result"
    }
   ],
   "source": [
    "rd_vxvzp.shape"
   ]
  }
 ],
 "metadata": {
  "kernelspec": {
   "display_name": "uw3-neurop",
   "language": "python",
   "name": "python3"
  },
  "language_info": {
   "codemirror_mode": {
    "name": "ipython",
    "version": 3
   },
   "file_extension": ".py",
   "mimetype": "text/x-python",
   "name": "python",
   "nbconvert_exporter": "python",
   "pygments_lexer": "ipython3",
   "version": "3.10.9"
  },
  "orig_nbformat": 4
 },
 "nbformat": 4,
 "nbformat_minor": 2
}
