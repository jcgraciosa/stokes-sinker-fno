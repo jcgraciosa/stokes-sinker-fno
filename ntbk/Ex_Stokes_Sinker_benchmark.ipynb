{
 "cells": [
  {
   "attachments": {},
   "cell_type": "markdown",
   "id": "bbaf7f68",
   "metadata": {},
   "source": [
    "# Linear stokes sinker\n",
    "\n",
    "The stokes sinker is a benchmark to test sinking velocities determined by the stokes solver.\n",
    "\n",
    "Two materials are used, one for the background and one for the sinking ball.\n",
    "\n",
    "Stokes velocity is calculated and compared with the velocity from the UW model to benchmark the stokes solver\n"
   ]
  },
  {
   "cell_type": "code",
   "execution_count": 1,
   "id": "3a34ec3d",
   "metadata": {
    "lines_to_next_cell": 2
   },
   "outputs": [],
   "source": [
    "from petsc4py import PETSc\n",
    "import underworld3 as uw\n",
    "from underworld3.systems import Stokes\n",
    "import numpy as np\n",
    "import sympy\n",
    "from mpi4py import MPI\n",
    "import os\n",
    "\n",
    "import zarr"
   ]
  },
  {
   "cell_type": "code",
   "execution_count": 2,
   "id": "e95708fd",
   "metadata": {},
   "outputs": [],
   "source": [
    "# import pyvista as pv\n",
    "# import vtk"
   ]
  },
  {
   "cell_type": "code",
   "execution_count": 3,
   "id": "4086ac69",
   "metadata": {},
   "outputs": [],
   "source": [
    "#### visualisation within script\n",
    "render = True\n",
    "\n",
    "#### save output\n",
    "save_output = False"
   ]
  },
  {
   "cell_type": "code",
   "execution_count": 4,
   "id": "6647ee14",
   "metadata": {},
   "outputs": [],
   "source": [
    "### number of steps for the model\n",
    "nstep = 1"
   ]
  },
  {
   "cell_type": "code",
   "execution_count": 5,
   "id": "7749a290",
   "metadata": {},
   "outputs": [],
   "source": [
    "### stokes tolerance\n",
    "tol = 1e-5"
   ]
  },
  {
   "cell_type": "code",
   "execution_count": 6,
   "id": "42b6939c",
   "metadata": {},
   "outputs": [],
   "source": [
    "#### output folder name\n",
    "outputPath = f\"../../stokes_output/sinker_eta1e6_rho10/\"\n",
    "\n",
    "if uw.mpi.rank==0:      \n",
    "    ### create folder if not run before\n",
    "    if not os.path.exists(outputPath):\n",
    "        os.makedirs(outputPath)"
   ]
  },
  {
   "cell_type": "code",
   "execution_count": 7,
   "id": "1a9d1f3c",
   "metadata": {},
   "outputs": [],
   "source": [
    "### resolution of the model\n",
    "res = 80"
   ]
  },
  {
   "cell_type": "code",
   "execution_count": 8,
   "id": "c7177d31",
   "metadata": {},
   "outputs": [],
   "source": [
    "# Set size and position of dense sphere.\n",
    "sphereRadius = 0.1\n",
    "sphereCentre = (0.0, 0.7)"
   ]
  },
  {
   "cell_type": "code",
   "execution_count": 9,
   "id": "4bda70ac",
   "metadata": {},
   "outputs": [],
   "source": [
    "# define some names for our index\n",
    "materialLightIndex = 0\n",
    "materialHeavyIndex = 1"
   ]
  },
  {
   "cell_type": "code",
   "execution_count": 10,
   "id": "87f5a8cc",
   "metadata": {},
   "outputs": [],
   "source": [
    "# Set constants for the viscosity of each material\n",
    "viscBG     =  1.0\n",
    "viscSphere = 1000.0"
   ]
  },
  {
   "cell_type": "code",
   "execution_count": 11,
   "id": "c877559f",
   "metadata": {},
   "outputs": [],
   "source": [
    "# set density of the different materials\n",
    "densityBG     =  0.0\n",
    "densitySphere = 10.0"
   ]
  },
  {
   "cell_type": "code",
   "execution_count": 12,
   "id": "d00c0d42",
   "metadata": {},
   "outputs": [],
   "source": [
    "# location of tracer at bottom of sinker\n",
    "x_pos = sphereCentre[0]\n",
    "y_pos = sphereCentre[1] - sphereRadius"
   ]
  },
  {
   "cell_type": "code",
   "execution_count": 13,
   "id": "1261774f",
   "metadata": {},
   "outputs": [],
   "source": [
    "nsteps = 1"
   ]
  },
  {
   "cell_type": "code",
   "execution_count": 14,
   "id": "306cd16e",
   "metadata": {},
   "outputs": [],
   "source": [
    "# mesh = uw.meshing.UnstructuredSimplexBox(\n",
    "#     minCoords=(-1.0, 0.0), maxCoords=(1.0, 1.0), cellSize=1.0 / res, regular=True\n",
    "# )\n",
    "\n",
    "x_min = -1.\n",
    "x_max = 1.\n",
    "z_min = 0\n",
    "z_max = 1\n",
    "\n",
    "mesh = uw.meshing.StructuredQuadBox(minCoords=(x_min, z_min), maxCoords=(x_max, z_max),  elementRes=(res,res))\n",
    "# mesh = uw.meshing.UnstructuredSimplexBox(\n",
    "#     minCoords=(-1.0, 0.0), maxCoords=(1.0, 1.0), cellSize=1.0 / res, regular=True\n",
    "# )"
   ]
  },
  {
   "attachments": {},
   "cell_type": "markdown",
   "id": "055072f5",
   "metadata": {},
   "source": [
    "####  Create Stokes object and the required mesh variables (velocity and pressure)"
   ]
  },
  {
   "cell_type": "code",
   "execution_count": 15,
   "id": "c29e0a6b",
   "metadata": {},
   "outputs": [],
   "source": [
    "v = uw.discretisation.MeshVariable(\"U\", mesh, mesh.dim, degree=2)\n",
    "p = uw.discretisation.MeshVariable(\"P\", mesh, 1, degree=1)\n",
    "bf = uw.discretisation.MeshVariable(\"F\", mesh, mesh.dim, degree=2) # for the body force\n"
   ]
  },
  {
   "cell_type": "code",
   "execution_count": 16,
   "id": "a81b152e",
   "metadata": {
    "lines_to_next_cell": 2
   },
   "outputs": [],
   "source": [
    "stokes = uw.systems.Stokes(mesh, velocityField=v, pressureField=p)\n",
    "stokes.constitutive_model = uw.systems.constitutive_models.ViscousFlowModel(mesh.dim)"
   ]
  },
  {
   "cell_type": "code",
   "execution_count": 17,
   "id": "57ac4a46",
   "metadata": {
    "lines_to_next_cell": 2
   },
   "outputs": [],
   "source": [
    "### free slip BC\n",
    "\n",
    "stokes.add_dirichlet_bc( (0.,0.), 'Left',   (0) ) # left/right: function, boundaries, components\n",
    "stokes.add_dirichlet_bc( (0.,0.), 'Right',  (0) )\n",
    "\n",
    "stokes.add_dirichlet_bc( (0.,0.), 'Top',    (1) )\n",
    "stokes.add_dirichlet_bc( (0.,0.), 'Bottom', (1) )# top/bottom: function, boundaries, components "
   ]
  },
  {
   "attachments": {},
   "cell_type": "markdown",
   "id": "791c4f23",
   "metadata": {},
   "source": [
    "####  Add a particle swarm which is used to track material properties "
   ]
  },
  {
   "cell_type": "code",
   "execution_count": 18,
   "id": "810ae2f5",
   "metadata": {},
   "outputs": [],
   "source": [
    "swarm = uw.swarm.Swarm(mesh=mesh)\n",
    "material = uw.swarm.IndexSwarmVariable(\"M\", swarm, indices=2)\n",
    "swarm.populate(fill_param=4)"
   ]
  },
  {
   "attachments": {},
   "cell_type": "markdown",
   "id": "99c9e6b2",
   "metadata": {},
   "source": [
    "Create an array which contains:\n",
    "- the x and y coordinate of the sphere (0,1), \n",
    "- the radius (2) and \n",
    "- the material index (3)"
   ]
  },
  {
   "cell_type": "code",
   "execution_count": 19,
   "id": "4467a9d4",
   "metadata": {
    "lines_to_next_cell": 2
   },
   "outputs": [],
   "source": [
    "sphere = np.array(\n",
    "    [[sphereCentre[0], sphereCentre[1], sphereRadius, 1]]\n",
    "    )"
   ]
  },
  {
   "attachments": {},
   "cell_type": "markdown",
   "id": "60e17a20",
   "metadata": {},
   "source": [
    "Update the material variable to include the background and sphere"
   ]
  },
  {
   "cell_type": "code",
   "execution_count": 20,
   "id": "ce9f4c93",
   "metadata": {},
   "outputs": [],
   "source": [
    "with swarm.access(material):\n",
    "    material.data[...] = materialLightIndex\n",
    "\n",
    "    for i in range(sphere.shape[0]):\n",
    "        cx, cy, r, m = sphere[i, :]\n",
    "        inside = (swarm.data[:, 0] - cx) ** 2 + (swarm.data[:, 1] - cy) ** 2 < r**2\n",
    "        material.data[inside] = m"
   ]
  },
  {
   "cell_type": "code",
   "execution_count": 21,
   "id": "1b81a961",
   "metadata": {},
   "outputs": [],
   "source": [
    "### add tracer for sinker velocity\n",
    "tracer_coords = np.zeros(shape=(1, 2))\n",
    "tracer_coords[:, 0], tracer_coords[:, 1] = x_pos, y_pos"
   ]
  },
  {
   "cell_type": "code",
   "execution_count": 22,
   "id": "eb9fccae",
   "metadata": {},
   "outputs": [],
   "source": [
    "tracer = uw.swarm.Swarm(mesh=mesh)"
   ]
  },
  {
   "cell_type": "code",
   "execution_count": 23,
   "id": "86b4188a",
   "metadata": {},
   "outputs": [],
   "source": [
    "tracer.add_particles_with_coordinates(tracer_coords)"
   ]
  },
  {
   "cell_type": "code",
   "execution_count": 24,
   "id": "e003699a",
   "metadata": {},
   "outputs": [],
   "source": [
    "\n",
    "density_fn = material.createMask([densityBG, densitySphere])"
   ]
  },
  {
   "cell_type": "code",
   "execution_count": 25,
   "id": "cd30095b",
   "metadata": {},
   "outputs": [],
   "source": [
    "# density_fn"
   ]
  },
  {
   "cell_type": "code",
   "execution_count": 26,
   "id": "65b6fe9a",
   "metadata": {
    "lines_to_next_cell": 0
   },
   "outputs": [],
   "source": [
    "### assign material viscosity\n",
    "\n",
    "viscosity_fn = material.createMask([viscBG, viscSphere])\n"
   ]
  },
  {
   "cell_type": "code",
   "execution_count": 27,
   "id": "603db461",
   "metadata": {},
   "outputs": [],
   "source": [
    "# viscosity_fn"
   ]
  },
  {
   "cell_type": "code",
   "execution_count": 28,
   "id": "fee5e576",
   "metadata": {},
   "outputs": [],
   "source": [
    "# pv.global_theme.background = \"white\"\n",
    "# pv.global_theme.window_size = [750, 750]\n",
    "# pv.global_theme.antialiasing = True\n",
    "# pv.global_theme.jupyter_backend = \"panel\"\n",
    "# pv.global_theme.smooth_shading = True\n",
    "# pv.global_theme.camera[\"viewup\"] = [0.0, 1.0, 0.0]\n",
    "# pv.global_theme.camera[\"position\"] = [0.0, 0.0, 5.0]"
   ]
  },
  {
   "cell_type": "code",
   "execution_count": 29,
   "id": "6b4d060f",
   "metadata": {
    "lines_to_next_cell": 2
   },
   "outputs": [],
   "source": [
    "stokes.constitutive_model.Parameters.viscosity = viscosity_fn\n",
    "stokes.bodyforce = sympy.Matrix([0, -1 * density_fn])\n",
    "stokes.saddle_preconditioner = 1.0 / stokes.constitutive_model.Parameters.viscosity\n",
    "\n",
    "# projection object to calculate the body force on the mesh \n",
    "# bfz_calc = uw.systems.Projection(mesh, bf)\n",
    "# bfz_calc.uw_function = sympy.Matrix([0, -1 * density_fn])\n",
    "# bfz_calc.smoothing = 1.0e-3\n",
    "# bfz_calc.petsc_options.delValue(\"ksp_monitor\")"
   ]
  },
  {
   "cell_type": "code",
   "execution_count": 30,
   "id": "8e8fe22f",
   "metadata": {},
   "outputs": [],
   "source": [
    "stokes.tolerance = tol"
   ]
  },
  {
   "cell_type": "code",
   "execution_count": 31,
   "id": "615585d1",
   "metadata": {},
   "outputs": [],
   "source": [
    "step = 0\n",
    "time = 0.0"
   ]
  },
  {
   "cell_type": "code",
   "execution_count": 32,
   "id": "81a43c9b",
   "metadata": {},
   "outputs": [],
   "source": [
    "tSinker = np.zeros(nsteps)*np.nan\n",
    "ySinker = np.zeros(nsteps)*np.nan"
   ]
  },
  {
   "cell_type": "code",
   "execution_count": 33,
   "id": "4e47f9a8",
   "metadata": {},
   "outputs": [],
   "source": [
    "if uw.mpi.size == 1:\n",
    "    stokes.petsc_options['pc_type'] = 'lu'"
   ]
  },
  {
   "cell_type": "code",
   "execution_count": 34,
   "id": "1ac0e736",
   "metadata": {},
   "outputs": [
    {
     "name": "stdout",
     "output_type": "stream",
     "text": [
      "#PETSc Option Table entries:\n",
      "-coordinterp_petscdualspace_lagrange_continuity false\n",
      "-coordinterp_petscdualspace_lagrange_node_endpoints false\n",
      "-coordinterp_petscspace_degree 4\n",
      "-dm_plex_gmsh_mark_vertices true\n",
      "-dm_plex_gmsh_multiple_tags true\n",
      "-dm_plex_gmsh_use_regions\n",
      "-dm_plex_hash_location\n",
      "-meshproj_1_petscspace_degree 1\n",
      "-Stokes_1__pprivate_petscdualspace_lagrange_continuity true\n",
      "-Stokes_1__pprivate_petscdualspace_lagrange_node_endpoints false\n",
      "-Stokes_1__pprivate_petscspace_degree 1\n",
      "-Stokes_1__uprivate_petscspace_degree 2\n",
      "-Stokes_1_fieldsplit_pressure_ksp_rtol 1.0000000000000002e-06\n",
      "-Stokes_1_fieldsplit_pressure_ksp_type fgmres\n",
      "-Stokes_1_fieldsplit_pressure_pc_gasm_type basic\n",
      "-Stokes_1_fieldsplit_pressure_pc_type gasm\n",
      "-Stokes_1_fieldsplit_velocity_ksp_rtol 1.0000000000000002e-06\n",
      "-Stokes_1_fieldsplit_velocity_ksp_type cg\n",
      "-Stokes_1_fieldsplit_velocity_mg_levels_ksp_converged_maxits\n",
      "-Stokes_1_fieldsplit_velocity_mg_levels_ksp_max_it 3\n",
      "-Stokes_1_fieldsplit_velocity_pc_gamg_agg_nsmooths 2\n",
      "-Stokes_1_fieldsplit_velocity_pc_gamg_repartition true\n",
      "-Stokes_1_fieldsplit_velocity_pc_gamg_type agg\n",
      "-Stokes_1_fieldsplit_velocity_pc_mg_type additive\n",
      "-Stokes_1_fieldsplit_velocity_pc_type gamg\n",
      "-Stokes_1_ksp_atol 1.0000000000000001e-11\n",
      "-Stokes_1_ksp_rtol 1e-08\n",
      "-Stokes_1_pc_fieldsplit_diag_use_amat\n",
      "-Stokes_1_pc_fieldsplit_off_diag_use_amat\n",
      "-Stokes_1_pc_fieldsplit_schur_fact_type full\n",
      "-Stokes_1_pc_fieldsplit_schur_precondition a11\n",
      "-Stokes_1_pc_fieldsplit_type schur\n",
      "-Stokes_1_pc_type lu\n",
      "-Stokes_1_pc_use_amat\n",
      "-Stokes_1_snes_converged_reason\n",
      "-Stokes_1_snes_monitor_short\n",
      "-Stokes_1_snes_rtol 1e-05\n",
      "-VAR_petscdualspace_lagrange_continuity true\n",
      "-VAR_petscdualspace_lagrange_node_endpoints false\n",
      "-VAR_petscspace_degree 1\n",
      "#End of PETSc Option Table entries\n"
     ]
    }
   ],
   "source": [
    "stokes.petsc_options.view()"
   ]
  },
  {
   "cell_type": "code",
   "execution_count": 35,
   "id": "146a232f",
   "metadata": {},
   "outputs": [],
   "source": [
    "# calculate the body force on a coordinate grid - since FNO accepts rectangular grids\n",
    "x_grid = np.linspace(x_min, 0.9999999*x_max, res)\n",
    "z_grid = np.linspace(z_min, 0.9999999*z_max, res)\n",
    "\n",
    "xx, zz = np.meshgrid(x_grid, z_grid)\n",
    "\n",
    "pos_eval = np.zeros((xx.flatten().shape[0], 2))\n",
    "pos_eval[:, 0] = xx.flatten()\n",
    "pos_eval[:, 1] = zz.flatten()"
   ]
  },
  {
   "attachments": {},
   "cell_type": "markdown",
   "id": "d337e84f",
   "metadata": {},
   "source": [
    "#### Stokes solver loop"
   ]
  },
  {
   "cell_type": "code",
   "execution_count": 36,
   "id": "db744a36",
   "metadata": {
    "lines_to_next_cell": 2
   },
   "outputs": [
    {
     "name": "stdout",
     "output_type": "stream",
     "text": [
      "Step:   0, time:   0.00, tracer:    0.60\n",
      "  0 SNES Function norm 0.0162847 \n",
      "  1 SNES Function norm 3.37896e-09 \n",
      "Nonlinear Stokes_1_ solve converged due to CONVERGED_FNORM_RELATIVE iterations 1\n"
     ]
    },
    {
     "ename": "IndexError",
     "evalue": "index 1 is out of bounds for axis 0 with size 1",
     "output_type": "error",
     "traceback": [
      "\u001b[0;31m---------------------------------------------------------------------------\u001b[0m",
      "\u001b[0;31mIndexError\u001b[0m                                Traceback (most recent call last)",
      "Cell \u001b[0;32mIn[36], line 9\u001b[0m\n\u001b[1;32m      6\u001b[0m \u001b[39mif\u001b[39;00m ymin \u001b[39m<\u001b[39m\u001b[39m=\u001b[39m \u001b[39m1e-6\u001b[39m: \u001b[39m# break if tracer is close to bottom\u001b[39;00m\n\u001b[1;32m      7\u001b[0m     \u001b[39mbreak\u001b[39;00m\n\u001b[0;32m----> 9\u001b[0m ySinker[step] \u001b[39m=\u001b[39m ymin\n\u001b[1;32m     10\u001b[0m tSinker[step] \u001b[39m=\u001b[39m time\n\u001b[1;32m     12\u001b[0m \u001b[39m### print some stuff\u001b[39;00m\n",
      "\u001b[0;31mIndexError\u001b[0m: index 1 is out of bounds for axis 0 with size 1"
     ]
    }
   ],
   "source": [
    "while step < nsteps:\n",
    "    ### Get the position of the sinking ball\n",
    "    with tracer.access():\n",
    "        ymin = tracer.data[:,1].min()\n",
    "\n",
    "    if ymin <= 1e-6: # break if tracer is close to bottom\n",
    "        break\n",
    "\n",
    "    ySinker[step] = ymin\n",
    "    tSinker[step] = time\n",
    "    \n",
    "    ### print some stuff\n",
    "    if uw.mpi.rank == 0:\n",
    "        print(f\"Step: {str(step).rjust(3)}, time: {time:6.2f}, tracer:  {ymin:6.2f}\")\n",
    "\n",
    "    ### solve stokes\n",
    "    stokes.solve(zero_init_guess=True)\n",
    "    \n",
    "    ### estimate dt\n",
    "    dt = stokes.estimate_dt()\n",
    "\n",
    "    ### advect the swarm\n",
    "    swarm.advection(stokes.u.sym, dt, corrector=False)\n",
    "\n",
    "\n",
    "    ### advect tracer\n",
    "    tracer.advection(stokes.u.sym, dt, corrector=False)\n",
    "\n",
    "    #  calculate the body force, ux, uz, pressure\n",
    "    bf_z = uw.function.evaluate(-1*density_fn, pos_eval)\n",
    "    ux_proj = uw.function.evaluate(v.sym[0], pos_eval)\n",
    "    uz_proj = uw.function.evaluate(v.sym[1], pos_eval)\n",
    "    p_proj = uw.function.evaluate(p.sym[0], pos_eval)\n",
    "    visc_proj = uw.function.evaluate(viscosity_fn, pos_eval)\n",
    "\n",
    "    bf_z_rev = bf_z.reshape(xx.shape) # revert to rectangular mesh shape\n",
    "    ux_rev = ux_proj.reshape(xx.shape)\n",
    "    uz_rev = uz_proj.reshape(xx.shape)\n",
    "    p_rev = p_proj.reshape(xx.shape)\n",
    "    visc_rev = visc_proj.reshape(xx.shape)\n",
    "\n",
    "    # pack the predictables one array - L, R, C\n",
    "    vxvzp = np.zeros([3, xx.shape[0], xx.shape[1]])\n",
    "    vxvzp[0, :, :] = ux_rev\n",
    "    vxvzp[1, :, :] = uz_rev\n",
    "    vxvzp[2, :, :] = p_rev\n",
    "\n",
    "    # pack the inputs one array - L, R, C\n",
    "    bfv = np.zeros([2, xx.shape[0], xx.shape[1]]) # body force and viscosity\n",
    "    bfv[0, :, :] = bf_z_rev\n",
    "    bfv[1, :, :] = visc_rev\n",
    "\n",
    "    # save the inputs and outputs\n",
    "    zarr.save(outputPath + \"/vxvzp_{}.zarr\".format(step), vxvzp)\n",
    "    zarr.save(outputPath + \"/bfv_{}.zarr\".format(step), bfv)\n",
    "\n",
    "    step += 1\n",
    "    time += dt"
   ]
  },
  {
   "cell_type": "code",
   "execution_count": null,
   "id": "a065a237",
   "metadata": {},
   "outputs": [],
   "source": [
    "# mesh.petsc_save_checkpoint(meshVars=[v, p,], index=step, outputPath=outputPath)\n",
    "# swarm.petsc_save_checkpoint(swarmName='swarm', index=step, outputPath=outputPath)\n",
    "# tracer.petsc_save_checkpoint(swarmName='tracer', index=step, outputPath=outputPath)"
   ]
  },
  {
   "cell_type": "code",
   "execution_count": null,
   "id": "0d3ec519",
   "metadata": {},
   "outputs": [
    {
     "name": "stdout",
     "output_type": "stream",
     "text": [
      "stokes sinking velocity: 0.022222222222222227\n"
     ]
    }
   ],
   "source": [
    "# stokesSink_vel = (((2*sphereRadius)**2)*(densitySphere - densityBG)*1)/18*viscBG\n",
    "# if uw.mpi.rank==0:\n",
    "#     print(f'stokes sinking velocity: {stokesSink_vel}')"
   ]
  },
  {
   "attachments": {},
   "cell_type": "markdown",
   "id": "f8dc6f64",
   "metadata": {},
   "source": [
    "#### Compare velocity from the model with numerical solution to benchmark the Stokes solver"
   ]
  },
  {
   "cell_type": "code",
   "execution_count": null,
   "id": "7426cc8e",
   "metadata": {},
   "outputs": [
    {
     "name": "stdout",
     "output_type": "stream",
     "text": [
      "Initial position: t = 0.000, y = 0.600\n",
      "Final position:   t = 0.000, y = 0.600\n",
      "Velocity:         v = nan\n"
     ]
    },
    {
     "name": "stderr",
     "output_type": "stream",
     "text": [
      "/var/folders/sj/jbtsvyqn1d556dgk71dlv3_x665gb7/T/ipykernel_84738/3757957407.py:15: RuntimeWarning: invalid value encountered in scalar divide\n",
      "  velocity = (ySinker[0] - ySinker[-1]) / (tSinker[-1] - tSinker[0])\n"
     ]
    }
   ],
   "source": [
    "# if uw.mpi.rank==0:\n",
    "    \n",
    "#     ### remove nan values, if any\n",
    "#     ySinker = ySinker[~np.isnan(y)]\n",
    "#     tSinker = tSinker[~np.isnan(tSinker)]\n",
    "    \n",
    "#     t_benchmark = np.arange(0, tSinker.max(), 0.1)\n",
    "#     v_benchmark = 0.6 - (t_benchmark*stokesSink_vel)\n",
    "    \n",
    "    \n",
    "#     print('Initial position: t = {0:.3f}, y = {1:.3f}'.format(tSinker[0], ySinker[0]))\n",
    "#     print('Final position:   t = {0:.3f}, y = {1:.3f}'.format(tSinker[-1], ySinker[-1]))\n",
    "    \n",
    "    \n",
    "#     velocity = (ySinker[0] - ySinker[-1]) / (tSinker[-1] - tSinker[0])\n",
    "#     print(f'Velocity:         v = {velocity}')"
   ]
  },
  {
   "cell_type": "code",
   "execution_count": null,
   "id": "3552a87c",
   "metadata": {
    "lines_to_next_cell": 2
   },
   "outputs": [
    {
     "data": {
      "image/png": "[encoded data removed]",
      "text/plain": [
       "<Figure size 1200x600 with 1 Axes>"
      ]
     },
     "metadata": {},
     "output_type": "display_data"
    }
   ],
   "source": [
    "# if uw.mpi.size==1:    \n",
    "#     import matplotlib.pyplot as pyplot\n",
    "\n",
    "#     fig = pyplot.figure()\n",
    "#     fig.set_size_inches(12, 6)\n",
    "#     ax = fig.add_subplot(1,1,1)\n",
    "#     ax.plot(tSinker, ySinker, label='UW sinker') \n",
    "    \n",
    "#     ax.plot(t_benchmark, v_benchmark, ls='--', label='benchmark') \n",
    "    \n",
    "#     ax.legend()\n",
    "    \n",
    "#     ax.set_xlabel('Time')\n",
    "#     ax.set_ylabel('Sinker position')"
   ]
  },
  {
   "cell_type": "code",
   "execution_count": null,
   "id": "7d424bb2",
   "metadata": {},
   "outputs": [
    {
     "name": "stderr",
     "output_type": "stream",
     "text": [
      "/Users/jgra0019/mambaforge/envs/uw3/lib/python3.10/site-packages/pyvista/themes.py:2489: PyVistaDeprecationWarning: antialising is deprecated.  Please use `anti_aliasing` instead.\n",
      "  warnings.warn(\n",
      "/Users/jgra0019/mambaforge/envs/uw3/lib/python3.10/site-packages/pyvista/themes.py:2457: PyVistaDeprecationWarning: `anti_aliasing` is now a string or None and must be either \"ssaa\", \"msaa\", \"fxaa\", or None\n",
      "  warnings.warn(\n"
     ]
    },
    {
     "data": {
      "application/javascript": "(function(root) {\n  function now() {\n    return new Date();\n  }\n\n  var force = true;\n\n  if (typeof root._bokeh_onload_callbacks === \"undefined\" || force === true) {\n    root._bokeh_onload_callbacks = [];\n    root._bokeh_is_loading = undefined;\n  }\n\n  if (typeof (root._bokeh_timeout) === \"undefined\" || force === true) {\n    root._bokeh_timeout = Date.now() + 5000;\n    root._bokeh_failed_load = false;\n  }\n\n  function run_callbacks() {\n    try {\n      root._bokeh_onload_callbacks.forEach(function(callback) {\n        if (callback != null)\n          callback();\n      });\n    } finally {\n      delete root._bokeh_onload_callbacks\n    }\n    console.debug(\"Bokeh: all callbacks have finished\");\n  }\n\n  function load_libs(css_urls, js_urls, js_modules, callback) {\n    if (css_urls == null) css_urls = [];\n    if (js_urls == null) js_urls = [];\n    if (js_modules == null) js_modules = [];\n\n    root._bokeh_onload_callbacks.push(callback);\n    if (root._bokeh_is_loading > 0) {\n      console.debug(\"Bokeh: BokehJS is being loaded, scheduling callback at\", now());\n      return null;\n    }\n    if (js_urls.length === 0 && js_modules.length === 0) {\n      run_callbacks();\n      return null;\n    }\n    console.debug(\"Bokeh: BokehJS not loaded, scheduling load and callback at\", now());\n\n    function on_load() {\n      root._bokeh_is_loading--;\n      if (root._bokeh_is_loading === 0) {\n        console.debug(\"Bokeh: all BokehJS libraries/stylesheets loaded\");\n        run_callbacks()\n      }\n    }\n\n    function on_error() {\n      console.error(\"failed to load \" + url);\n    }\n\n    for (var i = 0; i < css_urls.length; i++) {\n      var url = css_urls[i];\n      const element = document.createElement(\"link\");\n      element.onload = on_load;\n      element.onerror = on_error;\n      element.rel = \"stylesheet\";\n      element.type = \"text/css\";\n      element.href = url;\n      console.debug(\"Bokeh: injecting link tag for BokehJS stylesheet: \", url);\n      document.body.appendChild(element);\n    }\n\n    var skip = [];\n    if (window.requirejs) {\n      window.requirejs.config({'packages': {}, 'paths': {'vtk': 'https://cdn.jsdelivr.net/npm/vtk.js@20.0.1/vtk', 'gridstack': 'https://cdn.jsdelivr.net/npm/gridstack@4.2.5/dist/gridstack-h5', 'notyf': 'https://cdn.jsdelivr.net/npm/notyf@3/notyf.min'}, 'shim': {'vtk': {'exports': 'vtk'}, 'gridstack': {'exports': 'GridStack'}}});\n      require([\"vtk\"], function() {\n\ton_load()\n      })\n      require([\"gridstack\"], function(GridStack) {\n\twindow.GridStack = GridStack\n\ton_load()\n      })\n      require([\"notyf\"], function() {\n\ton_load()\n      })\n      root._bokeh_is_loading = css_urls.length + 3;\n    } else {\n      root._bokeh_is_loading = css_urls.length + js_urls.length + js_modules.length;\n    }    if (((window['vtk'] !== undefined) && (!(window['vtk'] instanceof HTMLElement))) || window.requirejs) {\n      var urls = ['https://cdn.holoviz.org/panel/0.14.4/dist/bundled/abstractvtkplot/vtk.js@20.0.1/vtk.js'];\n      for (var i = 0; i < urls.length; i++) {\n        skip.push(urls[i])\n      }\n    }    if (((window['GridStack'] !== undefined) && (!(window['GridStack'] instanceof HTMLElement))) || window.requirejs) {\n      var urls = ['https://cdn.holoviz.org/panel/0.14.4/dist/bundled/gridstack/gridstack@4.2.5/dist/gridstack-h5.js'];\n      for (var i = 0; i < urls.length; i++) {\n        skip.push(urls[i])\n      }\n    }    if (((window['Notyf'] !== undefined) && (!(window['Notyf'] instanceof HTMLElement))) || window.requirejs) {\n      var urls = ['https://cdn.holoviz.org/panel/0.14.4/dist/bundled/notificationarea/notyf@3/notyf.min.js'];\n      for (var i = 0; i < urls.length; i++) {\n        skip.push(urls[i])\n      }\n    }    for (var i = 0; i < js_urls.length; i++) {\n      var url = js_urls[i];\n      if (skip.indexOf(url) >= 0) {\n\tif (!window.requirejs) {\n\t  on_load();\n\t}\n\tcontinue;\n      }\n      var element = document.createElement('script');\n      element.onload = on_load;\n      element.onerror = on_error;\n      element.async = false;\n      element.src = url;\n      console.debug(\"Bokeh: injecting script tag for BokehJS library: \", url);\n      document.head.appendChild(element);\n    }\n    for (var i = 0; i < js_modules.length; i++) {\n      var url = js_modules[i];\n      if (skip.indexOf(url) >= 0) {\n\tif (!window.requirejs) {\n\t  on_load();\n\t}\n\tcontinue;\n      }\n      var element = document.createElement('script');\n      element.onload = on_load;\n      element.onerror = on_error;\n      element.async = false;\n      element.src = url;\n      element.type = \"module\";\n      console.debug(\"Bokeh: injecting script tag for BokehJS library: \", url);\n      document.head.appendChild(element);\n    }\n    if (!js_urls.length && !js_modules.length) {\n      on_load()\n    }\n  };\n\n  function inject_raw_css(css) {\n    const element = document.createElement(\"style\");\n    element.appendChild(document.createTextNode(css));\n    document.body.appendChild(element);\n  }\n\n  var js_urls = [\"https://cdn.holoviz.org/panel/0.14.4/dist/bundled/abstractvtkplot/vtk.js@20.0.1/vtk.js\", \"https://cdn.bokeh.org/bokeh/release/bokeh-2.4.3.min.js\", \"https://cdn.bokeh.org/bokeh/release/bokeh-gl-2.4.3.min.js\", \"https://cdn.bokeh.org/bokeh/release/bokeh-widgets-2.4.3.min.js\", \"https://cdn.bokeh.org/bokeh/release/bokeh-tables-2.4.3.min.js\", \"https://cdn.bokeh.org/bokeh/release/bokeh-mathjax-2.4.3.min.js\", \"https://unpkg.com/@holoviz/panel@0.14.4/dist/panel.min.js\"];\n  var js_modules = [];\n  var css_urls = [\"https://cdn.holoviz.org/panel/0.14.4/dist/css/debugger.css\", \"https://cdn.holoviz.org/panel/0.14.4/dist/css/alerts.css\", \"https://cdn.holoviz.org/panel/0.14.4/dist/css/card.css\", \"https://cdn.holoviz.org/panel/0.14.4/dist/css/widgets.css\", \"https://cdn.holoviz.org/panel/0.14.4/dist/css/markdown.css\", \"https://cdn.holoviz.org/panel/0.14.4/dist/css/json.css\", \"https://cdn.holoviz.org/panel/0.14.4/dist/css/loading.css\", \"https://cdn.holoviz.org/panel/0.14.4/dist/css/dataframe.css\"];\n  var inline_js = [    function(Bokeh) {\n      inject_raw_css(\"\\n    .bk.pn-loading.arc:before {\\n      background-image: url(\\\"data:image/svg+xml;base64,PHN2ZyB4bWxucz0iaHR0cDovL3d3dy53My5vcmcvMjAwMC9zdmciIHN0eWxlPSJtYXJnaW46IGF1dG87IGJhY2tncm91bmQ6IG5vbmU7IGRpc3BsYXk6IGJsb2NrOyBzaGFwZS1yZW5kZXJpbmc6IGF1dG87IiB2aWV3Qm94PSIwIDAgMTAwIDEwMCIgcHJlc2VydmVBc3BlY3RSYXRpbz0ieE1pZFlNaWQiPiAgPGNpcmNsZSBjeD0iNTAiIGN5PSI1MCIgZmlsbD0ibm9uZSIgc3Ryb2tlPSIjYzNjM2MzIiBzdHJva2Utd2lkdGg9IjEwIiByPSIzNSIgc3Ryb2tlLWRhc2hhcnJheT0iMTY0LjkzMzYxNDMxMzQ2NDE1IDU2Ljk3Nzg3MTQzNzgyMTM4Ij4gICAgPGFuaW1hdGVUcmFuc2Zvcm0gYXR0cmlidXRlTmFtZT0idHJhbnNmb3JtIiB0eXBlPSJyb3RhdGUiIHJlcGVhdENvdW50PSJpbmRlZmluaXRlIiBkdXI9IjFzIiB2YWx1ZXM9IjAgNTAgNTA7MzYwIDUwIDUwIiBrZXlUaW1lcz0iMDsxIj48L2FuaW1hdGVUcmFuc2Zvcm0+ICA8L2NpcmNsZT48L3N2Zz4=\\\");\\n      background-size: auto calc(min(50%, 400px));\\n    }\\n    \");\n    },    function(Bokeh) {\n      Bokeh.set_log_level(\"info\");\n    },\nfunction(Bokeh) {} // ensure no trailing comma for IE\n  ];\n\n  function run_inline_js() {\n    if ((root.Bokeh !== undefined) || (force === true)) {\n      for (var i = 0; i < inline_js.length; i++) {\n        inline_js[i].call(root, root.Bokeh);\n      }} else if (Date.now() < root._bokeh_timeout) {\n      setTimeout(run_inline_js, 100);\n    } else if (!root._bokeh_failed_load) {\n      console.log(\"Bokeh: BokehJS failed to load within specified timeout.\");\n      root._bokeh_failed_load = true;\n    }\n  }\n\n  if (root._bokeh_is_loading === 0) {\n    console.debug(\"Bokeh: BokehJS loaded, going straight to plotting\");\n    run_inline_js();\n  } else {\n    load_libs(css_urls, js_urls, js_modules, function() {\n      console.debug(\"Bokeh: BokehJS plotting callback run at\", now());\n      run_inline_js();\n    });\n  }\n}(window));",
      "application/vnd.holoviews_load.v0+json": ""
     },
     "metadata": {},
     "output_type": "display_data"
    },
    {
     "data": {
      "application/javascript": "\nif ((window.PyViz === undefined) || (window.PyViz instanceof HTMLElement)) {\n  window.PyViz = {comms: {}, comm_status:{}, kernels:{}, receivers: {}, plot_index: []}\n}\n\n\n    function JupyterCommManager() {\n    }\n\n    JupyterCommManager.prototype.register_target = function(plot_id, comm_id, msg_handler) {\n      if (window.comm_manager || ((window.Jupyter !== undefined) && (Jupyter.notebook.kernel != null))) {\n        var comm_manager = window.comm_manager || Jupyter.notebook.kernel.comm_manager;\n        comm_manager.register_target(comm_id, function(comm) {\n          comm.on_msg(msg_handler);\n        });\n      } else if ((plot_id in window.PyViz.kernels) && (window.PyViz.kernels[plot_id])) {\n        window.PyViz.kernels[plot_id].registerCommTarget(comm_id, function(comm) {\n          comm.onMsg = msg_handler;\n        });\n      } else if (typeof google != 'undefined' && google.colab.kernel != null) {\n        google.colab.kernel.comms.registerTarget(comm_id, (comm) => {\n          var messages = comm.messages[Symbol.asyncIterator]();\n          function processIteratorResult(result) {\n            var message = result.value;\n            console.log(message)\n            var content = {data: message.data, comm_id};\n            var buffers = []\n            for (var buffer of message.buffers || []) {\n              buffers.push(new DataView(buffer))\n            }\n            var metadata = message.metadata || {};\n            var msg = {content, buffers, metadata}\n            msg_handler(msg);\n            return messages.next().then(processIteratorResult);\n          }\n          return messages.next().then(processIteratorResult);\n        })\n      }\n    }\n\n    JupyterCommManager.prototype.get_client_comm = function(plot_id, comm_id, msg_handler) {\n      if (comm_id in window.PyViz.comms) {\n        return window.PyViz.comms[comm_id];\n      } else if (window.comm_manager || ((window.Jupyter !== undefined) && (Jupyter.notebook.kernel != null))) {\n        var comm_manager = window.comm_manager || Jupyter.notebook.kernel.comm_manager;\n        var comm = comm_manager.new_comm(comm_id, {}, {}, {}, comm_id);\n        if (msg_handler) {\n          comm.on_msg(msg_handler);\n        }\n      } else if ((plot_id in window.PyViz.kernels) && (window.PyViz.kernels[plot_id])) {\n        var comm = window.PyViz.kernels[plot_id].connectToComm(comm_id);\n        comm.open();\n        if (msg_handler) {\n          comm.onMsg = msg_handler;\n        }\n      } else if (typeof google != 'undefined' && google.colab.kernel != null) {\n        var comm_promise = google.colab.kernel.comms.open(comm_id)\n        comm_promise.then((comm) => {\n          window.PyViz.comms[comm_id] = comm;\n          if (msg_handler) {\n            var messages = comm.messages[Symbol.asyncIterator]();\n            function processIteratorResult(result) {\n              var message = result.value;\n              var content = {data: message.data};\n              var metadata = message.metadata || {comm_id};\n              var msg = {content, metadata}\n              msg_handler(msg);\n              return messages.next().then(processIteratorResult);\n            }\n            return messages.next().then(processIteratorResult);\n          }\n        }) \n        var sendClosure = (data, metadata, buffers, disposeOnDone) => {\n          return comm_promise.then((comm) => {\n            comm.send(data, metadata, buffers, disposeOnDone);\n          });\n        };\n        var comm = {\n          send: sendClosure\n        };\n      }\n      window.PyViz.comms[comm_id] = comm;\n      return comm;\n    }\n    window.PyViz.comm_manager = new JupyterCommManager();\n    \n\n\nvar JS_MIME_TYPE = 'application/javascript';\nvar HTML_MIME_TYPE = 'text/html';\nvar EXEC_MIME_TYPE = 'application/vnd.holoviews_exec.v0+json';\nvar CLASS_NAME = 'output';\n\n/**\n * Render data to the DOM node\n */\nfunction render(props, node) {\n  var div = document.createElement(\"div\");\n  var script = document.createElement(\"script\");\n  node.appendChild(div);\n  node.appendChild(script);\n}\n\n/**\n * Handle when a new output is added\n */\nfunction handle_add_output(event, handle) {\n  var output_area = handle.output_area;\n  var output = handle.output;\n  if ((output.data == undefined) || (!output.data.hasOwnProperty(EXEC_MIME_TYPE))) {\n    return\n  }\n  var id = output.metadata[EXEC_MIME_TYPE][\"id\"];\n  var toinsert = output_area.element.find(\".\" + CLASS_NAME.split(' ')[0]);\n  if (id !== undefined) {\n    var nchildren = toinsert.length;\n    var html_node = toinsert[nchildren-1].children[0];\n    html_node.innerHTML = output.data[HTML_MIME_TYPE];\n    var scripts = [];\n    var nodelist = html_node.querySelectorAll(\"script\");\n    for (var i in nodelist) {\n      if (nodelist.hasOwnProperty(i)) {\n        scripts.push(nodelist[i])\n      }\n    }\n\n    scripts.forEach( function (oldScript) {\n      var newScript = document.createElement(\"script\");\n      var attrs = [];\n      var nodemap = oldScript.attributes;\n      for (var j in nodemap) {\n        if (nodemap.hasOwnProperty(j)) {\n          attrs.push(nodemap[j])\n        }\n      }\n      attrs.forEach(function(attr) { newScript.setAttribute(attr.name, attr.value) });\n      newScript.appendChild(document.createTextNode(oldScript.innerHTML));\n      oldScript.parentNode.replaceChild(newScript, oldScript);\n    });\n    if (JS_MIME_TYPE in output.data) {\n      toinsert[nchildren-1].children[1].textContent = output.data[JS_MIME_TYPE];\n    }\n    output_area._hv_plot_id = id;\n    if ((window.Bokeh !== undefined) && (id in Bokeh.index)) {\n      window.PyViz.plot_index[id] = Bokeh.index[id];\n    } else {\n      window.PyViz.plot_index[id] = null;\n    }\n  } else if (output.metadata[EXEC_MIME_TYPE][\"server_id\"] !== undefined) {\n    var bk_div = document.createElement(\"div\");\n    bk_div.innerHTML = output.data[HTML_MIME_TYPE];\n    var script_attrs = bk_div.children[0].attributes;\n    for (var i = 0; i < script_attrs.length; i++) {\n      toinsert[toinsert.length - 1].childNodes[1].setAttribute(script_attrs[i].name, script_attrs[i].value);\n    }\n    // store reference to server id on output_area\n    output_area._bokeh_server_id = output.metadata[EXEC_MIME_TYPE][\"server_id\"];\n  }\n}\n\n/**\n * Handle when an output is cleared or removed\n */\nfunction handle_clear_output(event, handle) {\n  var id = handle.cell.output_area._hv_plot_id;\n  var server_id = handle.cell.output_area._bokeh_server_id;\n  if (((id === undefined) || !(id in PyViz.plot_index)) && (server_id !== undefined)) { return; }\n  var comm = window.PyViz.comm_manager.get_client_comm(\"hv-extension-comm\", \"hv-extension-comm\", function () {});\n  if (server_id !== null) {\n    comm.send({event_type: 'server_delete', 'id': server_id});\n    return;\n  } else if (comm !== null) {\n    comm.send({event_type: 'delete', 'id': id});\n  }\n  delete PyViz.plot_index[id];\n  if ((window.Bokeh !== undefined) & (id in window.Bokeh.index)) {\n    var doc = window.Bokeh.index[id].model.document\n    doc.clear();\n    const i = window.Bokeh.documents.indexOf(doc);\n    if (i > -1) {\n      window.Bokeh.documents.splice(i, 1);\n    }\n  }\n}\n\n/**\n * Handle kernel restart event\n */\nfunction handle_kernel_cleanup(event, handle) {\n  delete PyViz.comms[\"hv-extension-comm\"];\n  window.PyViz.plot_index = {}\n}\n\n/**\n * Handle update_display_data messages\n */\nfunction handle_update_output(event, handle) {\n  handle_clear_output(event, {cell: {output_area: handle.output_area}})\n  handle_add_output(event, handle)\n}\n\nfunction register_renderer(events, OutputArea) {\n  function append_mime(data, metadata, element) {\n    // create a DOM node to render to\n    var toinsert = this.create_output_subarea(\n    metadata,\n    CLASS_NAME,\n    EXEC_MIME_TYPE\n    );\n    this.keyboard_manager.register_events(toinsert);\n    // Render to node\n    var props = {data: data, metadata: metadata[EXEC_MIME_TYPE]};\n    render(props, toinsert[0]);\n    element.append(toinsert);\n    return toinsert\n  }\n\n  events.on('output_added.OutputArea', handle_add_output);\n  events.on('output_updated.OutputArea', handle_update_output);\n  events.on('clear_output.CodeCell', handle_clear_output);\n  events.on('delete.Cell', handle_clear_output);\n  events.on('kernel_ready.Kernel', handle_kernel_cleanup);\n\n  OutputArea.prototype.register_mime_type(EXEC_MIME_TYPE, append_mime, {\n    safe: true,\n    index: 0\n  });\n}\n\nif (window.Jupyter !== undefined) {\n  try {\n    var events = require('base/js/events');\n    var OutputArea = require('notebook/js/outputarea').OutputArea;\n    if (OutputArea.prototype.mime_types().indexOf(EXEC_MIME_TYPE) == -1) {\n      register_renderer(events, OutputArea);\n    }\n  } catch(err) {\n  }\n}\n",
      "application/vnd.holoviews_load.v0+json": ""
     },
     "metadata": {},
     "output_type": "display_data"
    },
    {
     "data": {
      "text/html": [
       "<style>.bk-root, .bk-root .bk:before, .bk-root .bk:after {\n",
       "  font-family: var(--jp-ui-font-size1);\n",
       "  font-size: var(--jp-ui-font-size1);\n",
       "  color: var(--jp-ui-font-color1);\n",
       "}\n",
       "</style>"
      ]
     },
     "metadata": {},
     "output_type": "display_data"
    },
    {
     "name": "stderr",
     "output_type": "stream",
     "text": [
      "/var/folders/sj/jbtsvyqn1d556dgk71dlv3_x665gb7/T/ipykernel_84738/2678205352.py:10: PyVistaDeprecationWarning: `panel` backend is deprecated and is planned for future removal.\n",
      "  pv.global_theme.jupyter_backend = \"panel\"\n"
     ]
    },
    {
     "data": {
      "application/vnd.jupyter.widget-view+json": {
       "model_id": "0922ce05ae524b669ab0d77bb44457c2",
       "version_major": 2,
       "version_minor": 0
      },
      "text/plain": [
       "BokehModel(combine_events=True, render_bundle={'docs_json': {'b76294d5-0226-44b5-a4c0-b0b38b5109d3': {'defs': …"
      ]
     },
     "metadata": {},
     "output_type": "display_data"
    }
   ],
   "source": [
    "# if uw.mpi.size == 1:\n",
    "\n",
    "#     import numpy as np\n",
    "#     import pyvista as pv\n",
    "#     import vtk\n",
    "\n",
    "#     pv.global_theme.background = \"white\"\n",
    "#     pv.global_theme.window_size = [750, 250]\n",
    "#     pv.global_theme.antialiasing = True\n",
    "#     pv.global_theme.jupyter_backend = \"panel\"\n",
    "#     pv.global_theme.smooth_shading = True\n",
    "\n",
    "#     # pv.start_xvfb()\n",
    "#     mesh.vtk(outputPath +\"tmpMsh.vtk\")\n",
    "#     pvmesh = pv.read(outputPath +\"tmpMsh.vtk\")\n",
    "\n",
    "#     # pvmesh.point_data[\"S\"]  = uw.function.evaluate(s_soln.fn, meshbox.data)\n",
    "\n",
    "#     with mesh.access():\n",
    "#         vsol = v.data.copy()\n",
    "\n",
    "#     with swarm.access():\n",
    "#         points = np.zeros((swarm.data.shape[0], 3))\n",
    "#         points[:, 0] = swarm.data[:, 0]\n",
    "#         points[:, 1] = swarm.data[:, 1]\n",
    "#         points[:, 2] = 0.0\n",
    "\n",
    "#     point_cloud = pv.PolyData(points)\n",
    "\n",
    "#     with swarm.access():\n",
    "#         point_cloud.point_data[\"M\"] = material.data.copy()\n",
    "\n",
    "#     arrow_loc = np.zeros((v.coords.shape[0], 3))\n",
    "#     arrow_loc[:, 0:2] = v.coords[...]\n",
    "\n",
    "#     arrow_length = np.zeros((v.coords.shape[0], 3))\n",
    "#     arrow_length[:, 0:2] = vsol[...]\n",
    "\n",
    "#     pl = pv.Plotter()\n",
    "\n",
    "#     pl.add_mesh(pvmesh, \"Black\", \"wireframe\")\n",
    "\n",
    "#     pvmesh.point_data[\"rho\"] = uw.function.evaluate(density_fn, mesh.data)\n",
    "\n",
    "#     # pl.add_mesh(pvmesh, cmap=\"coolwarm\", edge_color=\"Black\", show_edges=True, scalars=\"rho\",\n",
    "#     #                 use_transparency=False, opacity=0.95)\n",
    "\n",
    "#     # pl.add_mesh(pvmesh, cmap=\"coolwarm\", edge_color=\"Black\", show_edges=True, scalars=\"S\",\n",
    "#     #               use_transparency=False, opacity=0.5)\n",
    "\n",
    "#     pl.add_mesh(\n",
    "#         point_cloud,\n",
    "#         cmap=\"coolwarm\",\n",
    "#         edge_color=\"Black\",\n",
    "#         show_edges=False,\n",
    "#         scalars=\"M\",\n",
    "#         use_transparency=False,\n",
    "#         opacity=0.95,\n",
    "#     )\n",
    "\n",
    "#     pl.add_arrows(arrow_loc, arrow_length, mag=5.0, opacity=0.5)\n",
    "#     # pl.add_arrows(arrow_loc2, arrow_length2, mag=1.0e-1)\n",
    "\n",
    "#     # pl.add_points(pdata)\n",
    "\n",
    "#     pl.show(cpos=\"xy\")"
   ]
  },
  {
   "cell_type": "code",
   "execution_count": null,
   "id": "58065557",
   "metadata": {},
   "outputs": [],
   "source": [
    "# import matplotlib.pyplot as plt\n",
    "\n",
    "# fig, ax = plt.subplots(dpi = 150)\n",
    "# out = ax.scatter(xx.flatten(), zz.flatten(), c = visc_rev.flatten(), cmap = \"coolwarm\", s = 5)\n",
    "# plt.colorbar(out)\n",
    "# ax.set_aspect(\"equal\")"
   ]
  },
  {
   "cell_type": "code",
   "execution_count": null,
   "id": "b9cbb185",
   "metadata": {},
   "outputs": [],
   "source": [
    "# fig, ax = plt.subplots(dpi = 150)\n",
    "# out = ax.scatter(xx.flatten(), zz.flatten(), c = vxvzp[0, :, :].flatten(), cmap = \"coolwarm\", s = 5)\n",
    "# plt.colorbar(out)\n",
    "# ax.set_aspect(\"equal\")\n",
    "\n",
    "# with mesh.access():\n",
    "#     fig, ax = plt.subplots(dpi = 150)\n",
    "#     out = ax.scatter(v.coords[:, 0], v.coords[:, 1], c = v.data[:, 0], cmap = \"coolwarm\", s = 5)\n",
    "#     plt.colorbar(out)\n",
    "#     ax.set_aspect(\"equal\")\n"
   ]
  },
  {
   "cell_type": "code",
   "execution_count": null,
   "id": "51000715",
   "metadata": {},
   "outputs": [],
   "source": [
    "# fig, ax = plt.subplots(dpi = 150)\n",
    "# out = ax.scatter(xx.flatten(), zz.flatten(), c = vxvzp[1, :, :].flatten(), cmap = \"coolwarm\", s = 5)\n",
    "# plt.colorbar(out)\n",
    "# ax.set_aspect(\"equal\")\n",
    "\n",
    "# with mesh.access():\n",
    "#     fig, ax = plt.subplots(dpi = 150)\n",
    "#     out = ax.scatter(v.coords[:, 0], v.coords[:, 1], c = v.data[:, 1], cmap = \"coolwarm\", s = 5)\n",
    "#     plt.colorbar(out)\n",
    "#     ax.set_aspect(\"equal\")"
   ]
  },
  {
   "cell_type": "code",
   "execution_count": null,
   "id": "668f766a",
   "metadata": {},
   "outputs": [],
   "source": [
    "# fig, ax = plt.subplots(dpi = 150)\n",
    "# out = ax.scatter(xx.flatten(), zz.flatten(), c = vxvzp[2, :, :].flatten(), cmap = \"coolwarm\", s = 5)\n",
    "# plt.colorbar(out)\n",
    "# ax.set_aspect(\"equal\")\n",
    "\n",
    "# with mesh.access():\n",
    "#     fig, ax = plt.subplots(dpi = 150)\n",
    "#     out = ax.scatter(p.coords[:, 0], p.coords[:, 1], c = p.data[:], cmap = \"coolwarm\", s = 5)\n",
    "#     plt.colorbar(out)\n",
    "#     ax.set_aspect(\"equal\")"
   ]
  },
  {
   "cell_type": "code",
   "execution_count": null,
   "id": "950c15b7",
   "metadata": {},
   "outputs": [],
   "source": [
    "\n",
    "\n",
    "# zarr.save(outputPath + \"/vxvzp.zarr\", vxvzp)\n",
    "# zarr.save(outputPath + \"/bfz.zarr\", bf_z_rev)"
   ]
  },
  {
   "cell_type": "code",
   "execution_count": null,
   "id": "270b854e",
   "metadata": {},
   "outputs": [],
   "source": [
    "# rd_vxvzp = zarr.load(outputPath + \"/vxvzp.zarr\")\n",
    "# rd_bf_z_rev = zarr.load(outputPath + \"/bfz.zarr\")"
   ]
  },
  {
   "cell_type": "code",
   "execution_count": null,
   "id": "153df9a2",
   "metadata": {},
   "outputs": [
    {
     "name": "stdout",
     "output_type": "stream",
     "text": [
      "True\n",
      "True\n"
     ]
    }
   ],
   "source": [
    "# print(np.allclose(rd_vxvzp, vxvzp))\n",
    "# print(np.allclose(rd_bf_z_rev, bf_z_rev))"
   ]
  }
 ],
 "metadata": {
  "kernelspec": {
   "display_name": "Python 3 (ipykernel)",
   "language": "python",
   "name": "python3"
  },
  "language_info": {
   "codemirror_mode": {
    "name": "ipython",
    "version": 3
   },
   "file_extension": ".py",
   "mimetype": "text/x-python",
   "name": "python",
   "nbconvert_exporter": "python",
   "pygments_lexer": "ipython3",
   "version": "3.10.9"
  }
 },
 "nbformat": 4,
 "nbformat_minor": 5
}
